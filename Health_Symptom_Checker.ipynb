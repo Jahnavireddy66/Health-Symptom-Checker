{
  "nbformat": 4,
  "nbformat_minor": 0,
  "metadata": {
    "colab": {
      "provenance": []
    },
    "kernelspec": {
      "name": "python3",
      "display_name": "Python 3"
    },
    "language_info": {
      "name": "python"
    }
  },
  "cells": [
    {
      "cell_type": "code",
      "source": [
        "import pandas as pd\n",
        "from sklearn.preprocessing import MultiLabelBinarizer\n",
        "from sklearn.ensemble import RandomForestClassifier\n",
        "import difflib\n",
        "\n",
        "# Load dataset\n",
        "df = pd.read_csv(\"/content/health_symptom_checker_dataset_expanded.csv\")\n",
        "\n",
        "# Combine all symptom columns into a list\n",
        "symptom_cols = [col for col in df.columns if col.startswith(\"Symptom_\")]\n",
        "df['Symptoms'] = df[symptom_cols].values.tolist()\n",
        "\n",
        "# Clean and standardize symptoms\n",
        "df['Symptoms'] = df['Symptoms'].apply(lambda x: [sym.strip().lower() for sym in x if isinstance(sym, str)])\n",
        "\n",
        "# One-hot encode symptoms\n",
        "mlb = MultiLabelBinarizer()\n",
        "X = mlb.fit_transform(df['Symptoms'])\n",
        "y = df['Disease']\n",
        "\n",
        "# Train classifier\n",
        "model = RandomForestClassifier(n_estimators=100, random_state=42)\n",
        "model.fit(X, y)\n",
        "\n",
        "# Map readable symptoms\n",
        "symptom_name_map = {sym.lower().replace(\"_\", \" \"): sym for sym in mlb.classes_}\n",
        "\n",
        "# Fuzzy matcher for typos\n",
        "def get_closest_symptom(symptom):\n",
        "    candidates = list(symptom_name_map.keys())\n",
        "    match = difflib.get_close_matches(symptom.lower(), candidates, n=1, cutoff=0.8)\n",
        "    return symptom_name_map[match[0]] if match else None\n",
        "\n",
        "# Predict disease from user symptoms\n",
        "def predict_disease(user_symptoms):\n",
        "    cleaned = []\n",
        "    for sym in user_symptoms:\n",
        "        key = sym.strip().lower()\n",
        "        matched_sym = symptom_name_map.get(key) or get_closest_symptom(key)\n",
        "        if matched_sym:\n",
        "            cleaned.append(matched_sym)\n",
        "\n",
        "    if not cleaned:\n",
        "        return \"No known symptoms entered. Please try again with valid symptoms.\"\n",
        "\n",
        "    input_encoded = mlb.transform([cleaned])\n",
        "    prediction = model.predict(input_encoded)\n",
        "    return prediction[0]\n",
        "\n",
        "# Show known symptoms\n",
        "print(\"Known symptoms are:\")\n",
        "print(\", \".join(sorted([sym.replace(\"_\", \" \") for sym in mlb.classes_])))\n",
        "\n",
        "# User input loop\n",
        "while True:\n",
        "    user_input = input(\"\\nEnter symptoms separated by commas (or type 'exit' to quit): \")\n",
        "    if user_input.lower() == 'exit':\n",
        "        print(\"Goodbye!\")\n",
        "        break\n",
        "\n",
        "    user_symptoms = user_input.split(\",\")\n",
        "    result = predict_disease(user_symptoms)\n",
        "\n",
        "    print(f\"\\nPredicted Disease: {result}\")"
      ],
      "metadata": {
        "colab": {
          "base_uri": "https://localhost:8080/"
        },
        "id": "kqx27uhV3B9y",
        "outputId": "16f8e2e1-cb68-4637-bff8-b88d8940690a"
      },
      "execution_count": 9,
      "outputs": [
        {
          "output_type": "stream",
          "name": "stdout",
          "text": [
            "Known symptoms are:\n",
            "abdominal bloating, abdominal pain, acne, back pain, blurred vision, breathlessness, chest pain, chills, confusion, congestion, constipation, cough, cramps, dehydration, diarrhoea, dizziness, dry cough, dry skin, eye pain, fatigue, fever, hair loss, headache, irregular periods, irritability, itching, itchy eyes, joint pain, joint stiffness, loss of appetite, loss of balance, malaise, memory loss, mood swings, muscle pain, muscle weakness, nausea, night sweats, numbness, palpitations, pimples, rash, redness, runny nose, scaling, slurred speech, sneezing, sore throat, stiffness, stomach pain, sweating, swelling, thirst, vomiting, watering eyes, weakness, weight gain, weight loss\n",
            "\n",
            "Enter symptoms separated by commas (or type 'exit' to quit): runny nose, cough\n",
            "\n",
            "Predicted Disease: common_cold\n",
            "\n",
            "Enter symptoms separated by commas (or type 'exit' to quit): irregular periods, weight gain\n",
            "\n",
            "Predicted Disease: hormonal_imbalance\n",
            "\n",
            "Enter symptoms separated by commas (or type 'exit' to quit): vomiting, stomach pain\n",
            "\n",
            "Predicted Disease: food_poisoning\n",
            "\n",
            "Enter symptoms separated by commas (or type 'exit' to quit): exit\n",
            "Goodbye!\n"
          ]
        }
      ]
    }
  ]
}